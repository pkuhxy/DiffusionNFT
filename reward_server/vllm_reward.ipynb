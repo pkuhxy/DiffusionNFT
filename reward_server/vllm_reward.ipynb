{
 "cells": [
  {
   "cell_type": "code",
   "execution_count": null,
   "id": "6ef755dc",
   "metadata": {},
   "outputs": [
    {
     "ename": "",
     "evalue": "",
     "output_type": "error",
     "traceback": [
      "\u001b[1;31mFailed to start the Kernel 'Python 3.8.12'. \n",
      "\u001b[1;31mView Jupyter <a href='command:jupyter.viewOutput'>log</a> for further details. Cannot find module '@jupyterlab/services'\n",
      "\u001b[1;31mRequire stack:\n",
      "\u001b[1;31m- /root/.vscode-server/extensions/ms-toolsai.jupyter-2025.8.0-linux-x64/dist/extension.node.js\n",
      "\u001b[1;31m- /root/.vscode-server/extensions/ms-toolsai.jupyter-2025.8.0-linux-x64/dist/extension.node.proxy.js\n",
      "\u001b[1;31m- /root/.vscode-server/cli/servers/Stable-0f0d87fa9e96c856c5212fc86db137ac0d783365/server/out/vs/workbench/api/node/extensionHostProcess.js"
     ]
    }
   ],
   "source": [
    "from transformers import AutoModelForImageTextToText, AutoProcessor\n",
    "\n",
    "\n",
    "prompt = \"\"\"\n",
    "You are a visual assessment expert. You will be given two images: the first is a real image, and the second is a newly generated image from a different perspective based on the first. You need to judge whether the shape of an object in the second image matches the shape of that object in real life.\n",
    "You need to assign a score of 0-5 based on the result:\n",
    "\n",
    "0: The shape of the object in the generated image is completely different from common real-world shapes and is highly distorted.\n",
    "5: The generated image perfectly matches the shape in reality and is very natural and appropriate.\n",
    "\n",
    "Response Format (Directly respond to the score number):\n",
    "0-5\n",
    "\"\"\"\n",
    "\n",
    "\n",
    "# default: Load the model on the available device(s)\n",
    "model = AutoModelForImageTextToText.from_pretrained(\n",
    "    \"/apdcephfs_nj7/share_1220751/xianyihe/ckpts/Qwen/Qwen3-VL-8B-Instruct\", dtype=\"auto\", device_map=\"auto\"\n",
    ")\n",
    "\n",
    "# We recommend enabling flash_attention_2 for better acceleration and memory saving, especially in multi-image and video scenarios.\n",
    "# model = AutoModelForImageTextToText.from_pretrained(\n",
    "#     \"Qwen/Qwen3-VL-235B-A22B-Instruct\",\n",
    "#     dtype=torch.bfloat16,\n",
    "#     attn_implementation=\"flash_attention_2\",\n",
    "#     device_map=\"auto\",\n",
    "# )\n",
    "\n",
    "processor = AutoProcessor.from_pretrained(\"/apdcephfs_nj7/share_1220751/xianyihe/ckpts/Qwen/Qwen3-VL-8B-Instruct\")\n"
   ]
  }
 ],
 "metadata": {
  "kernelspec": {
   "display_name": "Python 3",
   "language": "python",
   "name": "python3"
  },
  "language_info": {
   "name": "python",
   "version": "3.8.12"
  }
 },
 "nbformat": 4,
 "nbformat_minor": 5
}
